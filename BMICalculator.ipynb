{
 "cells": [
  {
   "cell_type": "markdown",
   "id": "90bfbece-04aa-4451-a136-5d233ecd52d1",
   "metadata": {},
   "source": [
    "# BMI Calculator"
   ]
  },
  {
   "cell_type": "code",
   "execution_count": 42,
   "id": "53b48e9b-b856-411f-95e4-4bed5b90ab26",
   "metadata": {
    "scrolled": true
   },
   "outputs": [
    {
     "name": "stdin",
     "output_type": "stream",
     "text": [
      "Enter your name : KA\n",
      "Enter your weight in pounds : 198\n",
      "Enter your height in inches: 77\n"
     ]
    },
    {
     "name": "stdout",
     "output_type": "stream",
     "text": [
      "23.476808905380334\n",
      "KA, you're normal weight.\n"
     ]
    }
   ],
   "source": [
    "name = input(\"Enter your name :\")\n",
    "\n",
    "weight = int(input(\"Enter your weight in pounds :\"))\n",
    "\n",
    "height = int(input(\"Enter your height in inches:\"))\n",
    "\n",
    "BMI = (weight * 703) / (height * height)\n",
    "\n",
    "print(BMI)\n",
    "\n",
    "if BMI>0:\n",
    "    if(BMI<18.5):\n",
    "        print(name +\", you're underweight.\")\n",
    "    elif (BMI<24.5):\n",
    "        print(name +\", you're normal weight.\")\n",
    "    elif (BMI<29.9):\n",
    "        print(name +\", you're over weight.\")\n",
    "    elif (BMI<34.5):\n",
    "        print(name +\", you're obese.\")\n",
    "    elif (BMI<39.9):\n",
    "        print(name +\", you're severely obese.\")\n",
    "    else:\n",
    "        print(name +\", you're morbidly obese.\")\n",
    "\n",
    "   \n",
    "\n",
    "\n",
    "    \n",
    "\n"
   ]
  },
  {
   "cell_type": "code",
   "execution_count": null,
   "id": "50613199-e185-4472-9498-9f10bdda20eb",
   "metadata": {},
   "outputs": [],
   "source": [
    "\n",
    "\n"
   ]
  },
  {
   "cell_type": "code",
   "execution_count": null,
   "id": "07c6b6b8-7b32-4216-adac-ab1c20e27717",
   "metadata": {},
   "outputs": [],
   "source": []
  }
 ],
 "metadata": {
  "kernelspec": {
   "display_name": "Python 3 (ipykernel)",
   "language": "python",
   "name": "python3"
  },
  "language_info": {
   "codemirror_mode": {
    "name": "ipython",
    "version": 3
   },
   "file_extension": ".py",
   "mimetype": "text/x-python",
   "name": "python",
   "nbconvert_exporter": "python",
   "pygments_lexer": "ipython3",
   "version": "3.11.7"
  }
 },
 "nbformat": 4,
 "nbformat_minor": 5
}
